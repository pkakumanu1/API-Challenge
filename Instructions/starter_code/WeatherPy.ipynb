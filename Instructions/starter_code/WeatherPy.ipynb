{
 "cells": [
  {
   "cell_type": "markdown",
   "metadata": {},
   "source": [
    "# WeatherPy\n",
    "----\n",
    "\n",
    "#### Note\n",
    "* Instructions have been included for each segment. You do not have to follow them exactly, but they are included to help you think through the steps."
   ]
  },
  {
   "cell_type": "code",
   "execution_count": 3,
   "metadata": {
    "scrolled": true
   },
   "outputs": [],
   "source": [
    "# Dependencies and Setup\n",
    "import matplotlib.pyplot as plt\n",
    "import pandas as pd\n",
    "import numpy as np\n",
    "import requests\n",
    "import time\n",
    "import json\n",
    "from scipy.stats import linregress\n",
    "\n",
    "# Import API key\n",
    "from api_keys import weather_api_key\n",
    "\n",
    "# Incorporated citipy to determine city based on latitude and longitude\n",
    "from citipy import citipy\n",
    "\n",
    "# Output File (CSV)\n",
    "output_data_file = \"output_data/cities.csv\"\n",
    "\n",
    "# Range of latitudes and longitudes\n",
    "lat_range = (-90, 90)\n",
    "lng_range = (-180, 180)"
   ]
  },
  {
   "cell_type": "markdown",
   "metadata": {},
   "source": [
    "\n",
    "\n",
    "## Generate Cities List"
   ]
  },
  {
   "cell_type": "code",
   "execution_count": 39,
   "metadata": {},
   "outputs": [
    {
     "data": {
      "text/plain": [
       "636"
      ]
     },
     "execution_count": 39,
     "metadata": {},
     "output_type": "execute_result"
    }
   ],
   "source": [
    "# List for holding lat_lngs and cities\n",
    "lat_lngs = []\n",
    "cities = []\n",
    "\n",
    "# Create a set of random lat and lng combinations\n",
    "lats = np.random.uniform(low=-90.000, high=90.000, size=1500)\n",
    "lngs = np.random.uniform(low=-180.000, high=180.000, size=1500)\n",
    "lat_lngs = zip(lats, lngs)\n",
    "\n",
    "# Identify nearest city for each lat, lng combination\n",
    "for lat_lng in lat_lngs:\n",
    "    city = citipy.nearest_city(lat_lng[0], lat_lng[1]).city_name\n",
    "    \n",
    "    # If the city is unique, then add it to a our cities list\n",
    "    if city not in cities:\n",
    "        cities.append(city)\n",
    "\n",
    "# Print the city count to confirm sufficient count\n",
    "len(cities)"
   ]
  },
  {
   "cell_type": "markdown",
   "metadata": {},
   "source": [
    "### Perform API Calls\n",
    "* Perform a weather check on each city using a series of successive API calls.\n",
    "* Include a print log of each city as it'sbeing processed (with the city number and city name).\n"
   ]
  },
  {
   "cell_type": "code",
   "execution_count": 40,
   "metadata": {},
   "outputs": [],
   "source": [
    "Cloudiness = []\n",
    "Country = []\n",
    "Date =  []      \n",
    "Humidity = []\n",
    "Lat   = []\n",
    "Lng    = []\n",
    "MaxTemp  =[]\n",
    "WindSpeed =[]\n",
    "citi = []"
   ]
  },
  {
   "cell_type": "code",
   "execution_count": 41,
   "metadata": {},
   "outputs": [
    {
     "name": "stdout",
     "output_type": "stream",
     "text": [
      "City not found ... skipping.\n",
      "Processing Record 0 of Set 1 | davila\n",
      "City not found ... skipping.\n",
      "Processing Record 1 of Set 1 | clyde river\n",
      "Processing Record 2 of Set 1 | hilo\n",
      "Processing Record 3 of Set 1 | jizan\n",
      "Processing Record 4 of Set 1 | barrow\n",
      "Processing Record 5 of Set 1 | thompson\n",
      "Processing Record 6 of Set 1 | mataura\n",
      "Processing Record 7 of Set 1 | riyadh\n",
      "Processing Record 8 of Set 1 | manbij\n",
      "Processing Record 9 of Set 1 | farafangana\n",
      "Processing Record 10 of Set 1 | shelbyville\n",
      "Processing Record 11 of Set 1 | rikitea\n",
      "Processing Record 12 of Set 1 | port alfred\n",
      "City not found ... skipping.\n",
      "Processing Record 13 of Set 1 | luderitz\n",
      "Processing Record 14 of Set 1 | ushuaia\n",
      "Processing Record 15 of Set 1 | kaitangata\n",
      "Processing Record 16 of Set 1 | pangnirtung\n",
      "Processing Record 17 of Set 1 | san patricio\n",
      "Processing Record 18 of Set 1 | cidreira\n",
      "Processing Record 19 of Set 1 | mazamari\n",
      "Processing Record 20 of Set 1 | beringovskiy\n",
      "Processing Record 21 of Set 1 | south yarmouth\n",
      "Processing Record 22 of Set 1 | alice springs\n",
      "Processing Record 23 of Set 1 | mingaora\n",
      "City not found ... skipping.\n",
      "Processing Record 24 of Set 1 | praia da vitoria\n",
      "City not found ... skipping.\n",
      "Processing Record 25 of Set 1 | bambous virieux\n",
      "Processing Record 26 of Set 1 | bredasdorp\n",
      "Processing Record 27 of Set 1 | zelenoborskiy\n",
      "Processing Record 28 of Set 1 | yellowknife\n",
      "Processing Record 29 of Set 1 | narsaq\n",
      "Processing Record 30 of Set 1 | vanino\n",
      "Processing Record 31 of Set 1 | butaritari\n",
      "Processing Record 32 of Set 1 | teya\n",
      "Processing Record 33 of Set 1 | cape town\n",
      "Processing Record 34 of Set 1 | kamenka\n",
      "Processing Record 35 of Set 1 | pisco\n",
      "Processing Record 36 of Set 1 | busko-zdroj\n",
      "City not found ... skipping.\n",
      "Processing Record 37 of Set 1 | kindu\n",
      "Processing Record 38 of Set 1 | qaanaaq\n",
      "Processing Record 39 of Set 1 | albany\n",
      "Processing Record 40 of Set 1 | bocas del toro\n",
      "Processing Record 41 of Set 1 | victoria\n",
      "City not found ... skipping.\n",
      "Processing Record 42 of Set 1 | bonavista\n",
      "City not found ... skipping.\n",
      "Processing Record 43 of Set 1 | skjervoy\n",
      "Processing Record 44 of Set 1 | kapaa\n",
      "Processing Record 45 of Set 1 | upernavik\n",
      "Processing Record 46 of Set 1 | carnarvon\n",
      "Processing Record 47 of Set 1 | vangaindrano\n",
      "Processing Record 48 of Set 1 | leh\n",
      "Processing Record 49 of Set 1 | tasiilaq\n",
      "sleeping........\n",
      "Processing Record 0 of Set 2 | iqaluit\n",
      "Processing Record 1 of Set 2 | punta arenas\n",
      "Processing Record 2 of Set 2 | bluff\n",
      "Processing Record 3 of Set 2 | ilulissat\n",
      "Processing Record 4 of Set 2 | vaini\n",
      "Processing Record 5 of Set 2 | guerrero negro\n",
      "Processing Record 6 of Set 2 | hithadhoo\n",
      "Processing Record 7 of Set 2 | chiari\n",
      "City not found ... skipping.\n",
      "Processing Record 8 of Set 2 | gat\n",
      "Processing Record 9 of Set 2 | qunduz\n",
      "Processing Record 10 of Set 2 | busselton\n",
      "Processing Record 11 of Set 2 | baker city\n",
      "Processing Record 12 of Set 2 | touros\n",
      "Processing Record 13 of Set 2 | terney\n",
      "Processing Record 14 of Set 2 | si racha\n",
      "Processing Record 15 of Set 2 | sao filipe\n",
      "Processing Record 16 of Set 2 | saint anthony\n",
      "Processing Record 17 of Set 2 | armeria\n",
      "City not found ... skipping.\n",
      "City not found ... skipping.\n",
      "Processing Record 18 of Set 2 | paradise\n",
      "Processing Record 19 of Set 2 | saldanha\n",
      "Processing Record 20 of Set 2 | nikolskoye\n",
      "Processing Record 21 of Set 2 | puerto ayora\n",
      "Processing Record 22 of Set 2 | taltal\n",
      "Processing Record 23 of Set 2 | yurga\n",
      "Processing Record 24 of Set 2 | kavieng\n",
      "Processing Record 25 of Set 2 | dubi\n",
      "Processing Record 26 of Set 2 | vao\n",
      "Processing Record 27 of Set 2 | hami\n",
      "City not found ... skipping.\n",
      "Processing Record 28 of Set 2 | cabedelo\n",
      "City not found ... skipping.\n",
      "Processing Record 29 of Set 2 | norman wells\n",
      "Processing Record 30 of Set 2 | youghal\n",
      "Processing Record 31 of Set 2 | tuktoyaktuk\n",
      "Processing Record 32 of Set 2 | yurimaguas\n",
      "Processing Record 33 of Set 2 | klaksvik\n",
      "Processing Record 34 of Set 2 | nsanje\n",
      "Processing Record 35 of Set 2 | geraldton\n",
      "Processing Record 36 of Set 2 | nabire\n",
      "Processing Record 37 of Set 2 | pital\n",
      "Processing Record 38 of Set 2 | cabo san lucas\n",
      "Processing Record 39 of Set 2 | dingle\n",
      "Processing Record 40 of Set 2 | kruszwica\n",
      "Processing Record 41 of Set 2 | quatre cocos\n",
      "City not found ... skipping.\n",
      "Processing Record 42 of Set 2 | moranbah\n",
      "Processing Record 43 of Set 2 | pacific grove\n",
      "Processing Record 44 of Set 2 | sorland\n",
      "Processing Record 45 of Set 2 | zhigansk\n",
      "City not found ... skipping.\n",
      "Processing Record 46 of Set 2 | thetford mines\n",
      "Processing Record 47 of Set 2 | pyatnitskoye\n",
      "Processing Record 48 of Set 2 | atar\n",
      "Processing Record 49 of Set 2 | kilakarai\n",
      "sleeping........\n",
      "Processing Record 0 of Set 3 | eyl\n",
      "Processing Record 1 of Set 3 | ciudad bolivar\n",
      "Processing Record 2 of Set 3 | qobustan\n",
      "Processing Record 3 of Set 3 | dolores\n",
      "Processing Record 4 of Set 3 | hasaki\n",
      "City not found ... skipping.\n",
      "Processing Record 5 of Set 3 | srednekolymsk\n",
      "City not found ... skipping.\n",
      "Processing Record 6 of Set 3 | wilmington\n",
      "Processing Record 7 of Set 3 | lebu\n",
      "Processing Record 8 of Set 3 | diamantino\n",
      "City not found ... skipping.\n",
      "Processing Record 9 of Set 3 | bud\n",
      "Processing Record 10 of Set 3 | la cruz\n",
      "Processing Record 11 of Set 3 | santa vitoria do palmar\n",
      "Processing Record 12 of Set 3 | atambua\n",
      "Processing Record 13 of Set 3 | saskylakh\n",
      "Processing Record 14 of Set 3 | bengkulu\n",
      "Processing Record 15 of Set 3 | galle\n",
      "Processing Record 16 of Set 3 | naze\n",
      "Processing Record 17 of Set 3 | tautira\n",
      "Processing Record 18 of Set 3 | kununurra\n",
      "Processing Record 19 of Set 3 | chuy\n",
      "Processing Record 20 of Set 3 | avarua\n",
      "Processing Record 21 of Set 3 | mahebourg\n",
      "Processing Record 22 of Set 3 | dikson\n",
      "Processing Record 23 of Set 3 | portland\n",
      "Processing Record 24 of Set 3 | grand gaube\n",
      "Processing Record 25 of Set 3 | santa rosa\n",
      "Processing Record 26 of Set 3 | am timan\n",
      "Processing Record 27 of Set 3 | khatanga\n",
      "Processing Record 28 of Set 3 | jamestown\n",
      "Processing Record 29 of Set 3 | mecca\n",
      "Processing Record 30 of Set 3 | atuona\n",
      "Processing Record 31 of Set 3 | northam\n",
      "Processing Record 32 of Set 3 | roald\n",
      "Processing Record 33 of Set 3 | ribeira grande\n",
      "Processing Record 34 of Set 3 | zhezkazgan\n",
      "Processing Record 35 of Set 3 | hermanus\n",
      "Processing Record 36 of Set 3 | hobart\n",
      "City not found ... skipping.\n",
      "Processing Record 37 of Set 3 | leningradskiy\n",
      "Processing Record 38 of Set 3 | ust-koksa\n",
      "City not found ... skipping.\n",
      "Processing Record 39 of Set 3 | zhongshu\n",
      "Processing Record 40 of Set 3 | eagle pass\n",
      "Processing Record 41 of Set 3 | sydney\n",
      "Processing Record 42 of Set 3 | severobaykalsk\n",
      "Processing Record 43 of Set 3 | noumea\n",
      "Processing Record 44 of Set 3 | east london\n",
      "Processing Record 45 of Set 3 | kruisfontein\n",
      "Processing Record 46 of Set 3 | benito juarez\n",
      "Processing Record 47 of Set 3 | lagoa\n",
      "Processing Record 48 of Set 3 | alekseyevsk\n",
      "Processing Record 49 of Set 3 | aksarka\n",
      "sleeping........\n",
      "Processing Record 0 of Set 4 | gigmoto\n",
      "Processing Record 1 of Set 4 | faanui\n",
      "Processing Record 2 of Set 4 | smithers\n",
      "Processing Record 3 of Set 4 | georgetown\n",
      "Processing Record 4 of Set 4 | dustlik\n",
      "Processing Record 5 of Set 4 | muros\n",
      "Processing Record 6 of Set 4 | raudeberg\n",
      "Processing Record 7 of Set 4 | batagay\n",
      "Processing Record 8 of Set 4 | shakhtinsk\n",
      "Processing Record 9 of Set 4 | ust-omchug\n",
      "Processing Record 10 of Set 4 | carauari\n",
      "Processing Record 11 of Set 4 | lorengau\n",
      "Processing Record 12 of Set 4 | pombal\n",
      "Processing Record 13 of Set 4 | garowe\n",
      "City not found ... skipping.\n",
      "Processing Record 14 of Set 4 | mar del plata\n",
      "Processing Record 15 of Set 4 | miura\n",
      "Processing Record 16 of Set 4 | nome\n",
      "Processing Record 17 of Set 4 | arraial do cabo\n",
      "Processing Record 18 of Set 4 | saint-philippe\n",
      "Processing Record 19 of Set 4 | warri\n",
      "Processing Record 20 of Set 4 | marzuq\n",
      "Processing Record 21 of Set 4 | broome\n",
      "Processing Record 22 of Set 4 | tessalit\n",
      "Processing Record 23 of Set 4 | chaska\n",
      "Processing Record 24 of Set 4 | biltine\n",
      "Processing Record 25 of Set 4 | chokurdakh\n",
      "Processing Record 26 of Set 4 | port elizabeth\n",
      "Processing Record 27 of Set 4 | abu samrah\n",
      "Processing Record 28 of Set 4 | loikaw\n",
      "Processing Record 29 of Set 4 | kalmunai\n",
      "City not found ... skipping.\n",
      "Processing Record 30 of Set 4 | pergamino\n",
      "Processing Record 31 of Set 4 | marsa matruh\n",
      "Processing Record 32 of Set 4 | los llanos de aridane\n",
      "Processing Record 33 of Set 4 | gerede\n"
     ]
    },
    {
     "name": "stdout",
     "output_type": "stream",
     "text": [
      "Processing Record 34 of Set 4 | najran\n",
      "Processing Record 35 of Set 4 | iranshahr\n",
      "Processing Record 36 of Set 4 | makakilo city\n",
      "Processing Record 37 of Set 4 | kaffrine\n",
      "Processing Record 38 of Set 4 | bathsheba\n",
      "Processing Record 39 of Set 4 | palmer\n",
      "Processing Record 40 of Set 4 | vestmanna\n",
      "Processing Record 41 of Set 4 | kisangani\n",
      "Processing Record 42 of Set 4 | inuvik\n",
      "Processing Record 43 of Set 4 | sturgis\n",
      "Processing Record 44 of Set 4 | progreso\n",
      "Processing Record 45 of Set 4 | alofi\n",
      "Processing Record 46 of Set 4 | aden\n",
      "City not found ... skipping.\n",
      "Processing Record 47 of Set 4 | natal\n",
      "Processing Record 48 of Set 4 | auki\n",
      "Processing Record 49 of Set 4 | esperance\n",
      "sleeping........\n",
      "Processing Record 0 of Set 5 | souillac\n",
      "Processing Record 1 of Set 5 | agirish\n",
      "Processing Record 2 of Set 5 | flinders\n",
      "Processing Record 3 of Set 5 | kemijarvi\n",
      "Processing Record 4 of Set 5 | milkovo\n",
      "Processing Record 5 of Set 5 | constitucion\n",
      "Processing Record 6 of Set 5 | rumford\n",
      "Processing Record 7 of Set 5 | mount pleasant\n",
      "Processing Record 8 of Set 5 | ponta delgada\n",
      "Processing Record 9 of Set 5 | morden\n",
      "Processing Record 10 of Set 5 | vallenar\n",
      "Processing Record 11 of Set 5 | grootfontein\n",
      "Processing Record 12 of Set 5 | kalaleh\n",
      "Processing Record 13 of Set 5 | tiksi\n",
      "Processing Record 14 of Set 5 | horodnytsya\n",
      "Processing Record 15 of Set 5 | te anau\n",
      "Processing Record 16 of Set 5 | ko samui\n",
      "City not found ... skipping.\n",
      "Processing Record 17 of Set 5 | andenes\n",
      "Processing Record 18 of Set 5 | cabot\n",
      "City not found ... skipping.\n",
      "Processing Record 19 of Set 5 | castro\n",
      "Processing Record 20 of Set 5 | westport\n",
      "Processing Record 21 of Set 5 | grindavik\n",
      "Processing Record 22 of Set 5 | talnakh\n",
      "Processing Record 23 of Set 5 | provideniya\n",
      "Processing Record 24 of Set 5 | vung tau\n",
      "Processing Record 25 of Set 5 | longyearbyen\n",
      "Processing Record 26 of Set 5 | anadyr\n",
      "Processing Record 27 of Set 5 | bambanglipuro\n",
      "Processing Record 28 of Set 5 | sobolevo\n",
      "Processing Record 29 of Set 5 | ust-maya\n",
      "Processing Record 30 of Set 5 | le port\n",
      "Processing Record 31 of Set 5 | shenkursk\n",
      "Processing Record 32 of Set 5 | airai\n",
      "Processing Record 33 of Set 5 | puerto lopez\n",
      "Processing Record 34 of Set 5 | bilibino\n",
      "Processing Record 35 of Set 5 | maceio\n",
      "Processing Record 36 of Set 5 | vila franca do campo\n",
      "Processing Record 37 of Set 5 | rosita\n",
      "City not found ... skipping.\n",
      "Processing Record 38 of Set 5 | haines junction\n",
      "Processing Record 39 of Set 5 | bonthe\n",
      "Processing Record 40 of Set 5 | martapura\n",
      "Processing Record 41 of Set 5 | eureka\n",
      "Processing Record 42 of Set 5 | cannock\n",
      "Processing Record 43 of Set 5 | makasar\n",
      "Processing Record 44 of Set 5 | harper\n",
      "Processing Record 45 of Set 5 | gardone val trompia\n",
      "Processing Record 46 of Set 5 | halkirk\n",
      "Processing Record 47 of Set 5 | nishihara\n",
      "Processing Record 48 of Set 5 | bethel\n",
      "City not found ... skipping.\n",
      "Processing Record 49 of Set 5 | aginskoye\n",
      "sleeping........\n",
      "Processing Record 0 of Set 6 | gravdal\n",
      "Processing Record 1 of Set 6 | durban\n",
      "Processing Record 2 of Set 6 | ponta do sol\n",
      "Processing Record 3 of Set 6 | keokuk\n",
      "Processing Record 4 of Set 6 | freeport\n",
      "Processing Record 5 of Set 6 | new norfolk\n",
      "Processing Record 6 of Set 6 | kavaratti\n",
      "Processing Record 7 of Set 6 | victor harbor\n",
      "Processing Record 8 of Set 6 | ostrovnoy\n",
      "Processing Record 9 of Set 6 | arlit\n",
      "Processing Record 10 of Set 6 | khandbari\n",
      "Processing Record 11 of Set 6 | tocopilla\n",
      "Processing Record 12 of Set 6 | kendrapara\n",
      "Processing Record 13 of Set 6 | dudinka\n",
      "Processing Record 14 of Set 6 | krasnyy chikoy\n",
      "Processing Record 15 of Set 6 | taoudenni\n",
      "Processing Record 16 of Set 6 | severo-kurilsk\n",
      "Processing Record 17 of Set 6 | thinadhoo\n",
      "Processing Record 18 of Set 6 | aksu\n",
      "Processing Record 19 of Set 6 | houma\n",
      "Processing Record 20 of Set 6 | saint-georges\n",
      "Processing Record 21 of Set 6 | aswan\n",
      "Processing Record 22 of Set 6 | lompoc\n",
      "Processing Record 23 of Set 6 | morada nova\n",
      "Processing Record 24 of Set 6 | neiafu\n",
      "Processing Record 25 of Set 6 | egvekinot\n",
      "Processing Record 26 of Set 6 | wasilla\n",
      "Processing Record 27 of Set 6 | pevek\n",
      "Processing Record 28 of Set 6 | komsomolskiy\n",
      "Processing Record 29 of Set 6 | pernik\n",
      "City not found ... skipping.\n",
      "Processing Record 30 of Set 6 | acapulco\n",
      "Processing Record 31 of Set 6 | kaoma\n",
      "Processing Record 32 of Set 6 | karakol\n",
      "Processing Record 33 of Set 6 | coquimbo\n",
      "Processing Record 34 of Set 6 | torbay\n",
      "Processing Record 35 of Set 6 | asau\n",
      "Processing Record 36 of Set 6 | visby\n",
      "Processing Record 37 of Set 6 | leeton\n",
      "Processing Record 38 of Set 6 | husavik\n",
      "City not found ... skipping.\n",
      "Processing Record 39 of Set 6 | kaniama\n",
      "Processing Record 40 of Set 6 | nhulunbuy\n",
      "City not found ... skipping.\n",
      "Processing Record 41 of Set 6 | saint george\n",
      "Processing Record 42 of Set 6 | tres arroyos\n",
      "Processing Record 43 of Set 6 | nakamura\n",
      "Processing Record 44 of Set 6 | meulaboh\n",
      "Processing Record 45 of Set 6 | warrington\n",
      "Processing Record 46 of Set 6 | fortuna\n",
      "Processing Record 47 of Set 6 | massakory\n",
      "Processing Record 48 of Set 6 | iquique\n",
      "Processing Record 49 of Set 6 | cap-aux-meules\n",
      "sleeping........\n",
      "Processing Record 0 of Set 7 | salamiyah\n",
      "Processing Record 1 of Set 7 | dunedin\n",
      "Processing Record 2 of Set 7 | solnechnyy\n",
      "Processing Record 3 of Set 7 | vegreville\n",
      "Processing Record 4 of Set 7 | liezen\n",
      "Processing Record 5 of Set 7 | lasa\n",
      "Processing Record 6 of Set 7 | japura\n",
      "Processing Record 7 of Set 7 | korla\n",
      "Processing Record 8 of Set 7 | mortka\n",
      "Processing Record 9 of Set 7 | sao gabriel da cachoeira\n",
      "Processing Record 10 of Set 7 | ugoofaaru\n",
      "Processing Record 11 of Set 7 | tiznit\n",
      "Processing Record 12 of Set 7 | maneadero\n",
      "Processing Record 13 of Set 7 | acopiara\n",
      "Processing Record 14 of Set 7 | lavrentiya\n",
      "Processing Record 15 of Set 7 | kraslava\n",
      "Processing Record 16 of Set 7 | labuhan\n",
      "Processing Record 17 of Set 7 | phonhong\n",
      "Processing Record 18 of Set 7 | mareeba\n",
      "Processing Record 19 of Set 7 | vardo\n",
      "Processing Record 20 of Set 7 | faya\n",
      "Processing Record 21 of Set 7 | amos\n",
      "Processing Record 22 of Set 7 | turukhansk\n",
      "Processing Record 23 of Set 7 | oro valley\n",
      "Processing Record 24 of Set 7 | necochea\n",
      "Processing Record 25 of Set 7 | batagay-alyta\n",
      "Processing Record 26 of Set 7 | olinda\n",
      "Processing Record 27 of Set 7 | mwense\n",
      "Processing Record 28 of Set 7 | elk plain\n",
      "Processing Record 29 of Set 7 | shingu\n",
      "Processing Record 30 of Set 7 | aleppo\n",
      "Processing Record 31 of Set 7 | selizharovo\n",
      "Processing Record 32 of Set 7 | ponerihouen\n",
      "Processing Record 33 of Set 7 | chifeng\n",
      "Processing Record 34 of Set 7 | comodoro rivadavia\n",
      "Processing Record 35 of Set 7 | atwater\n",
      "Processing Record 36 of Set 7 | mbini\n",
      "Processing Record 37 of Set 7 | pecos\n",
      "Processing Record 38 of Set 7 | marawi\n",
      "Processing Record 39 of Set 7 | bloemfontein\n",
      "City not found ... skipping.\n",
      "Processing Record 40 of Set 7 | boa esperanca\n",
      "Processing Record 41 of Set 7 | sitka\n",
      "City not found ... skipping.\n",
      "Processing Record 42 of Set 7 | menzelinsk\n",
      "Processing Record 43 of Set 7 | crateus\n",
      "Processing Record 44 of Set 7 | kristiansand\n",
      "Processing Record 45 of Set 7 | andapa\n",
      "Processing Record 46 of Set 7 | tuatapere\n",
      "Processing Record 47 of Set 7 | bonfim\n",
      "Processing Record 48 of Set 7 | richards bay\n",
      "Processing Record 49 of Set 7 | mudon\n",
      "sleeping........\n",
      "Processing Record 0 of Set 8 | bilma\n",
      "Processing Record 1 of Set 8 | lalsk\n",
      "Processing Record 2 of Set 8 | tete\n",
      "Processing Record 3 of Set 8 | khani\n",
      "Processing Record 4 of Set 8 | luzhou\n",
      "Processing Record 5 of Set 8 | fukue\n",
      "City not found ... skipping.\n",
      "Processing Record 6 of Set 8 | kerema\n",
      "Processing Record 7 of Set 8 | lima\n",
      "Processing Record 8 of Set 8 | sovetskaya gavan\n",
      "Processing Record 9 of Set 8 | cherskiy\n",
      "City not found ... skipping.\n",
      "Processing Record 10 of Set 8 | hofn\n",
      "Processing Record 11 of Set 8 | yacuanquer\n",
      "Processing Record 12 of Set 8 | ucluelet\n",
      "Processing Record 13 of Set 8 | fort nelson\n",
      "Processing Record 14 of Set 8 | port macquarie\n",
      "Processing Record 15 of Set 8 | derzhavinsk\n",
      "Processing Record 16 of Set 8 | broken hill\n",
      "Processing Record 17 of Set 8 | innisfail\n",
      "Processing Record 18 of Set 8 | andros\n",
      "Processing Record 19 of Set 8 | santa isabel do rio negro\n",
      "Processing Record 20 of Set 8 | agadez\n",
      "Processing Record 21 of Set 8 | kenscoff\n",
      "Processing Record 22 of Set 8 | puerto escondido\n",
      "Processing Record 23 of Set 8 | coihaique\n"
     ]
    },
    {
     "name": "stdout",
     "output_type": "stream",
     "text": [
      "Processing Record 24 of Set 8 | merced\n",
      "Processing Record 25 of Set 8 | sinnamary\n",
      "Processing Record 26 of Set 8 | burnie\n",
      "Processing Record 27 of Set 8 | jaciara\n",
      "Processing Record 28 of Set 8 | margate\n",
      "City not found ... skipping.\n",
      "Processing Record 29 of Set 8 | sijunjung\n",
      "Processing Record 30 of Set 8 | belem\n",
      "Processing Record 31 of Set 8 | college\n",
      "Processing Record 32 of Set 8 | vostok\n",
      "Processing Record 33 of Set 8 | sorrento\n",
      "Processing Record 34 of Set 8 | skelleftea\n",
      "Processing Record 35 of Set 8 | myitkyina\n",
      "Processing Record 36 of Set 8 | chicama\n",
      "Processing Record 37 of Set 8 | ahipara\n",
      "Processing Record 38 of Set 8 | tilichiki\n",
      "Processing Record 39 of Set 8 | angoram\n",
      "Processing Record 40 of Set 8 | kismayo\n",
      "Processing Record 41 of Set 8 | banyo\n",
      "Processing Record 42 of Set 8 | newport\n",
      "Processing Record 43 of Set 8 | saurimo\n",
      "Processing Record 44 of Set 8 | vega de alatorre\n",
      "Processing Record 45 of Set 8 | vammala\n",
      "Processing Record 46 of Set 8 | ancud\n",
      "Processing Record 47 of Set 8 | katsuura\n",
      "Processing Record 48 of Set 8 | poum\n",
      "Processing Record 49 of Set 8 | la rioja\n",
      "sleeping........\n",
      "Processing Record 0 of Set 9 | durango\n",
      "Processing Record 1 of Set 9 | sawtell\n",
      "Processing Record 2 of Set 9 | san ramon\n",
      "Processing Record 3 of Set 9 | worland\n",
      "Processing Record 4 of Set 9 | kysyl-syr\n",
      "Processing Record 5 of Set 9 | sao gotardo\n",
      "Processing Record 6 of Set 9 | binika\n",
      "Processing Record 7 of Set 9 | garissa\n",
      "Processing Record 8 of Set 9 | cockburn town\n",
      "Processing Record 9 of Set 9 | batticaloa\n",
      "Processing Record 10 of Set 9 | atbasar\n",
      "Processing Record 11 of Set 9 | tortoli\n",
      "Processing Record 12 of Set 9 | hualmay\n",
      "City not found ... skipping.\n",
      "City not found ... skipping.\n",
      "Processing Record 13 of Set 9 | buren\n",
      "Processing Record 14 of Set 9 | salsk\n",
      "Processing Record 15 of Set 9 | shadegan\n",
      "Processing Record 16 of Set 9 | mandalgovi\n",
      "Processing Record 17 of Set 9 | ballina\n",
      "Processing Record 18 of Set 9 | sisimiut\n",
      "City not found ... skipping.\n",
      "Processing Record 19 of Set 9 | kodiak\n",
      "Processing Record 20 of Set 9 | totolapan\n",
      "Processing Record 21 of Set 9 | codrington\n",
      "Processing Record 22 of Set 9 | moussoro\n",
      "Processing Record 23 of Set 9 | nemuro\n",
      "Processing Record 24 of Set 9 | tranas\n",
      "Processing Record 25 of Set 9 | hambantota\n",
      "Processing Record 26 of Set 9 | porbandar\n",
      "Processing Record 27 of Set 9 | buraydah\n",
      "Processing Record 28 of Set 9 | san rafael\n",
      "Processing Record 29 of Set 9 | san quintin\n",
      "Processing Record 30 of Set 9 | nouadhibou\n",
      "Processing Record 31 of Set 9 | manuk mangkaw\n",
      "Processing Record 32 of Set 9 | bukachacha\n",
      "Processing Record 33 of Set 9 | timmins\n",
      "City not found ... skipping.\n",
      "Processing Record 34 of Set 9 | kalaswala\n",
      "Processing Record 35 of Set 9 | belyy yar\n",
      "Processing Record 36 of Set 9 | flin flon\n",
      "Processing Record 37 of Set 9 | soldotna\n",
      "Processing Record 38 of Set 9 | ternate\n",
      "Processing Record 39 of Set 9 | kangaatsiaq\n",
      "Processing Record 40 of Set 9 | abha\n",
      "Processing Record 41 of Set 9 | dourbali\n",
      "Processing Record 42 of Set 9 | nanakuli\n",
      "Processing Record 43 of Set 9 | black river\n",
      "Processing Record 44 of Set 9 | calvinia\n",
      "Processing Record 45 of Set 9 | bay-khaak\n",
      "Processing Record 46 of Set 9 | sovetskiy\n",
      "City not found ... skipping.\n",
      "Processing Record 47 of Set 9 | havoysund\n",
      "Processing Record 48 of Set 9 | ixtapa\n",
      "Processing Record 49 of Set 9 | payson\n",
      "sleeping........\n",
      "Processing Record 0 of Set 10 | mackay\n",
      "City not found ... skipping.\n",
      "Processing Record 1 of Set 10 | tumba\n",
      "Processing Record 2 of Set 10 | santa lucia\n",
      "Processing Record 3 of Set 10 | presidencia roque saenz pena\n",
      "Processing Record 4 of Set 10 | esna\n",
      "Processing Record 5 of Set 10 | sept-iles\n",
      "Processing Record 6 of Set 10 | aleksandrovskoye\n",
      "Processing Record 7 of Set 10 | alyangula\n",
      "Processing Record 8 of Set 10 | fairbanks\n",
      "Processing Record 9 of Set 10 | nuevitas\n",
      "Processing Record 10 of Set 10 | mahina\n",
      "Processing Record 11 of Set 10 | sioux lookout\n",
      "Processing Record 12 of Set 10 | guiratinga\n",
      "Processing Record 13 of Set 10 | tuy hoa\n",
      "Processing Record 14 of Set 10 | oriximina\n",
      "Processing Record 15 of Set 10 | katangli\n",
      "City not found ... skipping.\n",
      "Processing Record 16 of Set 10 | valleyview\n",
      "Processing Record 17 of Set 10 | paramonga\n",
      "Processing Record 18 of Set 10 | sidney\n",
      "Processing Record 19 of Set 10 | brigantine\n",
      "Processing Record 20 of Set 10 | port lincoln\n",
      "Processing Record 21 of Set 10 | moose factory\n",
      "Processing Record 22 of Set 10 | ohara\n",
      "Processing Record 23 of Set 10 | nicoya\n",
      "Processing Record 24 of Set 10 | galesong\n",
      "City not found ... skipping.\n",
      "Processing Record 25 of Set 10 | mantua\n",
      "Processing Record 26 of Set 10 | port hedland\n",
      "Processing Record 27 of Set 10 | puerto colombia\n",
      "Processing Record 28 of Set 10 | huarmey\n",
      "Processing Record 29 of Set 10 | kalashnikovo\n",
      "Processing Record 30 of Set 10 | brandon\n",
      "Processing Record 31 of Set 10 | mayo\n",
      "Processing Record 32 of Set 10 | vila\n",
      "City not found ... skipping.\n",
      "Processing Record 33 of Set 10 | altay\n",
      "City not found ... skipping.\n",
      "Processing Record 34 of Set 10 | marinette\n",
      "Processing Record 35 of Set 10 | skerries\n",
      "Processing Record 36 of Set 10 | porto torres\n",
      "Processing Record 37 of Set 10 | emerald\n",
      "Processing Record 38 of Set 10 | grafton\n",
      "Processing Record 39 of Set 10 | yatou\n",
      "Processing Record 40 of Set 10 | tarija\n",
      "Processing Record 41 of Set 10 | mafeteng\n",
      "Processing Record 42 of Set 10 | logan\n",
      "Processing Record 43 of Set 10 | sidi ali\n",
      "Processing Record 44 of Set 10 | plaster rock\n",
      "City not found ... skipping.\n",
      "Processing Record 45 of Set 10 | ixtlahuacan del rio\n",
      "Processing Record 46 of Set 10 | walvis bay\n",
      "Processing Record 47 of Set 10 | manzanillo\n",
      "Processing Record 48 of Set 10 | hlotse\n",
      "Processing Record 49 of Set 10 | beloha\n",
      "sleeping........\n",
      "Processing Record 0 of Set 11 | rawson\n",
      "Processing Record 1 of Set 11 | namibe\n",
      "Processing Record 2 of Set 11 | lazaro cardenas\n",
      "Processing Record 3 of Set 11 | san francisco\n",
      "Processing Record 4 of Set 11 | bam\n",
      "City not found ... skipping.\n",
      "Processing Record 5 of Set 11 | shimoda\n",
      "Processing Record 6 of Set 11 | lyuban\n",
      "City not found ... skipping.\n",
      "Processing Record 7 of Set 11 | micheweni\n",
      "City not found ... skipping.\n",
      "Processing Record 8 of Set 11 | pattoki\n",
      "Processing Record 9 of Set 11 | sinazongwe\n",
      "Processing Record 10 of Set 11 | khash\n",
      "Processing Record 11 of Set 11 | guaraniacu\n",
      "Processing Record 12 of Set 11 | luganville\n",
      "Processing Record 13 of Set 11 | hamilton\n",
      "Processing Record 14 of Set 11 | gazanjyk\n",
      "Processing Record 15 of Set 11 | yumen\n",
      "Processing Record 16 of Set 11 | kulachi\n",
      "Processing Record 17 of Set 11 | rocky mountain house\n",
      "Processing Record 18 of Set 11 | alihe\n",
      "City not found ... skipping.\n",
      "Processing Record 19 of Set 11 | leshukonskoye\n",
      "Processing Record 20 of Set 11 | ranau\n",
      "Processing Record 21 of Set 11 | assiniboia\n",
      "Processing Record 22 of Set 11 | bria\n",
      "Processing Record 23 of Set 11 | mount isa\n",
      "Processing Record 24 of Set 11 | keetmanshoop\n",
      "Processing Record 25 of Set 11 | mount abu\n",
      "Processing Record 26 of Set 11 | yartsevo\n",
      "Processing Record 27 of Set 11 | port-cartier\n",
      "Processing Record 28 of Set 11 | pochutla\n",
      "Processing Record 29 of Set 11 | cienfuegos\n",
      "Processing Record 30 of Set 11 | ust-shonosha\n",
      "Processing Record 31 of Set 11 | ornes\n",
      "Processing Record 32 of Set 11 | oga\n",
      "Processing Record 33 of Set 11 | waingapu\n",
      "Processing Record 34 of Set 11 | carballo\n",
      "Processing Record 35 of Set 11 | kiama\n",
      "Processing Record 36 of Set 11 | neuquen\n",
      "Processing Record 37 of Set 11 | boditi\n",
      "Processing Record 38 of Set 11 | vanimo\n",
      "Processing Record 39 of Set 11 | vozhega\n",
      "Processing Record 40 of Set 11 | lewistown\n",
      "Processing Record 41 of Set 11 | totma\n",
      "Processing Record 42 of Set 11 | fereydun kenar\n",
      "City not found ... skipping.\n",
      "City not found ... skipping.\n",
      "Processing Record 43 of Set 11 | batemans bay\n",
      "Processing Record 44 of Set 11 | port hawkesbury\n",
      "City not found ... skipping.\n",
      "Processing Record 45 of Set 11 | maarianhamina\n",
      "Processing Record 46 of Set 11 | illapel\n",
      "Processing Record 47 of Set 11 | lethem\n",
      "Processing Record 48 of Set 11 | bacolod\n",
      "Processing Record 49 of Set 11 | gillette\n",
      "sleeping........\n",
      "Processing Record 0 of Set 12 | camacha\n",
      "Processing Record 1 of Set 12 | chapais\n",
      "Processing Record 2 of Set 12 | zorritos\n",
      "Processing Record 3 of Set 12 | juba\n",
      "Processing Record 4 of Set 12 | ibirama\n",
      "Processing Record 5 of Set 12 | mangrol\n",
      "Processing Record 6 of Set 12 | taoru\n"
     ]
    },
    {
     "name": "stdout",
     "output_type": "stream",
     "text": [
      "Processing Record 7 of Set 12 | sabang\n",
      "Processing Record 8 of Set 12 | kropotkin\n",
      "Processing Record 9 of Set 12 | okha\n",
      "Processing Record 10 of Set 12 | la macarena\n",
      "Processing Record 11 of Set 12 | tura\n",
      "Processing Record 12 of Set 12 | todos santos\n",
      "Processing Record 13 of Set 12 | seydi\n",
      "Processing Record 14 of Set 12 | kampot\n",
      "Processing Record 15 of Set 12 | jinji\n",
      "Processing Record 16 of Set 12 | krasnoselkup\n",
      "Processing Record 17 of Set 12 | kristianstad\n",
      "Processing Record 18 of Set 12 | anshun\n",
      "Processing Record 19 of Set 12 | isangel\n",
      "City not found ... skipping.\n",
      "Processing Record 20 of Set 12 | mehamn\n",
      "Processing Record 21 of Set 12 | san cristobal\n",
      "Processing Record 22 of Set 12 | devrek\n",
      "Processing Record 23 of Set 12 | nsoko\n",
      "City not found ... skipping.\n",
      "Processing Record 24 of Set 12 | fredonia\n",
      "Processing Record 25 of Set 12 | deputatskiy\n",
      "Processing Record 26 of Set 12 | curup\n",
      "Processing Record 27 of Set 12 | williston\n",
      "Processing Record 28 of Set 12 | banikoara\n",
      "Processing Record 29 of Set 12 | lanzhou\n",
      "Processing Record 30 of Set 12 | netanya\n",
      "-----------------------------\n",
      "Data Retrieval Complete\n",
      "-----------------------------\n"
     ]
    }
   ],
   "source": [
    "#citi = [\"New York City\",\"Chicago\",\"Greterlcity\"]\n",
    "url = \"http://api.openweathermap.org/data/2.5/weather?\"\n",
    "units = \"Imperial\"\n",
    "counter = 0\n",
    "set = 1\n",
    "\n",
    "\n",
    "\n",
    "# Build query URL and request your results in Celsius\n",
    "for city in cities:\n",
    "                   \n",
    "    query_url = f\"{url}appid={weather_api_key}&q={city}&units={units}\"\n",
    "    #print (query_url)\n",
    "    if counter >= 50 :\n",
    "        print(\"sleeping........\")\n",
    "        time.sleep(5)\n",
    "        counter = 0\n",
    "        set = set +1\n",
    "    weather_response = requests.get(query_url)\n",
    "    weather_json = weather_response.json()\n",
    "    try:\n",
    "        citi.append(weather_json[\"name\"])\n",
    "        Cloudiness.append(weather_json[\"clouds\"][\"all\"])\n",
    "        Country.append(weather_json[\"sys\"][\"country\"])\n",
    "        Date.append(weather_json[\"dt\"])\n",
    "        Humidity.append(weather_json[\"main\"][\"humidity\"])\n",
    "        Lat.append(weather_json[\"coord\"][\"lat\"])\n",
    "        Lng.append(weather_json[\"coord\"][\"lon\"])\n",
    "        MaxTemp.append(weather_json[\"main\"][\"temp_max\"])\n",
    "        WindSpeed.append(weather_json[\"wind\"][\"speed\"])\n",
    "        \n",
    "        print(f\"Processing Record {counter} of Set {set} | {city}\")\n",
    "\n",
    "        counter = counter + 1\n",
    "            \n",
    "    except(KeyError, IndexError):\n",
    "         print(\"City not found ... skipping.\")\n",
    "\n",
    "\n",
    "\n",
    "\n",
    "print(\"-----------------------------\")\n",
    "print(\"Data Retrieval Complete\")      \n",
    "print(\"-----------------------------\")"
   ]
  },
  {
   "cell_type": "markdown",
   "metadata": {},
   "source": [
    "### Convert Raw Data to DataFrame\n",
    "* Export the city data into a .csv.\n",
    "* Display the DataFrame"
   ]
  },
  {
   "cell_type": "code",
   "execution_count": 42,
   "metadata": {},
   "outputs": [
    {
     "name": "stdout",
     "output_type": "stream",
     "text": [
      "City      581\n",
      "Cloudiness581\n",
      "Country   581\n",
      "Date      581\n",
      "Humidity  581\n",
      "Lat       581\n",
      "Lng       581\n",
      "Max Temp  581\n",
      "Wind Speed581\n"
     ]
    }
   ],
   "source": [
    "print(f\"City      {len(citi)}\")\n",
    "print(f\"Cloudiness{len(Cloudiness)}\")\n",
    "print(f\"Country   {len(Country)}\")\n",
    "print(f\"Date      {len(Date) }\")  \n",
    "print(f\"Humidity  {len(Humidity)}\")\n",
    "print(f\"Lat       {len(Lat)}\")\n",
    "print(f\"Lng       {len(Lng)}\")\n",
    "print(f\"Max Temp  {len(MaxTemp)}\")\n",
    "print(f\"Wind Speed{len(WindSpeed)}\")"
   ]
  },
  {
   "cell_type": "code",
   "execution_count": 43,
   "metadata": {},
   "outputs": [
    {
     "data": {
      "text/html": [
       "<div>\n",
       "<style scoped>\n",
       "    .dataframe tbody tr th:only-of-type {\n",
       "        vertical-align: middle;\n",
       "    }\n",
       "\n",
       "    .dataframe tbody tr th {\n",
       "        vertical-align: top;\n",
       "    }\n",
       "\n",
       "    .dataframe thead th {\n",
       "        text-align: right;\n",
       "    }\n",
       "</style>\n",
       "<table border=\"1\" class=\"dataframe\">\n",
       "  <thead>\n",
       "    <tr style=\"text-align: right;\">\n",
       "      <th></th>\n",
       "      <th>City</th>\n",
       "      <th>Cloudiness</th>\n",
       "      <th>Country</th>\n",
       "      <th>Date</th>\n",
       "      <th>Humidity</th>\n",
       "      <th>Lat</th>\n",
       "      <th>Lng</th>\n",
       "      <th>Max Temp</th>\n",
       "      <th>Wind Speed</th>\n",
       "    </tr>\n",
       "  </thead>\n",
       "  <tbody>\n",
       "    <tr>\n",
       "      <th>0</th>\n",
       "      <td>Davila</td>\n",
       "      <td>20</td>\n",
       "      <td>PH</td>\n",
       "      <td>1586456680</td>\n",
       "      <td>74</td>\n",
       "      <td>18.47</td>\n",
       "      <td>120.58</td>\n",
       "      <td>78.8</td>\n",
       "      <td>3.36</td>\n",
       "    </tr>\n",
       "    <tr>\n",
       "      <th>1</th>\n",
       "      <td>Clyde River</td>\n",
       "      <td>5</td>\n",
       "      <td>CA</td>\n",
       "      <td>1586456681</td>\n",
       "      <td>84</td>\n",
       "      <td>70.47</td>\n",
       "      <td>-68.59</td>\n",
       "      <td>8.6</td>\n",
       "      <td>2.24</td>\n",
       "    </tr>\n",
       "    <tr>\n",
       "      <th>2</th>\n",
       "      <td>Hilo</td>\n",
       "      <td>1</td>\n",
       "      <td>US</td>\n",
       "      <td>1586456681</td>\n",
       "      <td>64</td>\n",
       "      <td>19.73</td>\n",
       "      <td>-155.09</td>\n",
       "      <td>77.0</td>\n",
       "      <td>2.73</td>\n",
       "    </tr>\n",
       "    <tr>\n",
       "      <th>3</th>\n",
       "      <td>Jizan</td>\n",
       "      <td>2</td>\n",
       "      <td>SA</td>\n",
       "      <td>1586456681</td>\n",
       "      <td>66</td>\n",
       "      <td>17.33</td>\n",
       "      <td>42.67</td>\n",
       "      <td>86.0</td>\n",
       "      <td>4.70</td>\n",
       "    </tr>\n",
       "    <tr>\n",
       "      <th>4</th>\n",
       "      <td>Barrow</td>\n",
       "      <td>1</td>\n",
       "      <td>US</td>\n",
       "      <td>1586456405</td>\n",
       "      <td>83</td>\n",
       "      <td>71.29</td>\n",
       "      <td>-156.79</td>\n",
       "      <td>-9.4</td>\n",
       "      <td>11.41</td>\n",
       "    </tr>\n",
       "  </tbody>\n",
       "</table>\n",
       "</div>"
      ],
      "text/plain": [
       "          City  Cloudiness Country        Date  Humidity    Lat     Lng  \\\n",
       "0       Davila          20      PH  1586456680        74  18.47  120.58   \n",
       "1  Clyde River           5      CA  1586456681        84  70.47  -68.59   \n",
       "2         Hilo           1      US  1586456681        64  19.73 -155.09   \n",
       "3        Jizan           2      SA  1586456681        66  17.33   42.67   \n",
       "4       Barrow           1      US  1586456405        83  71.29 -156.79   \n",
       "\n",
       "   Max Temp  Wind Speed  \n",
       "0      78.8        3.36  \n",
       "1       8.6        2.24  \n",
       "2      77.0        2.73  \n",
       "3      86.0        4.70  \n",
       "4      -9.4       11.41  "
      ]
     },
     "execution_count": 43,
     "metadata": {},
     "output_type": "execute_result"
    }
   ],
   "source": [
    "City_df = pd.DataFrame({\"City\": citi,\n",
    "                       \"Cloudiness\" : Cloudiness,\n",
    "                       \"Country\":Country,\n",
    "                       \"Date\": Date,\n",
    "                       \"Humidity\": Humidity,\n",
    "                       \"Lat\": Lat,\n",
    "                       \"Lng\": Lng,\n",
    "                       \"Max Temp\": MaxTemp,\n",
    "                       \"Wind Speed\": WindSpeed})\n",
    "\n",
    "City_df.head()"
   ]
  },
  {
   "cell_type": "markdown",
   "metadata": {},
   "source": [
    "### Plotting the Data\n",
    "* Use proper labeling of the plots using plot titles (including date of analysis) and axes labels.\n",
    "* Save the plotted figures as .pngs."
   ]
  },
  {
   "cell_type": "markdown",
   "metadata": {},
   "source": [
    "#### Latitude vs. Temperature Plot"
   ]
  },
  {
   "cell_type": "code",
   "execution_count": 4,
   "metadata": {},
   "outputs": [
    {
     "data": {
      "text/html": [
       "<div>\n",
       "<style scoped>\n",
       "    .dataframe tbody tr th:only-of-type {\n",
       "        vertical-align: middle;\n",
       "    }\n",
       "\n",
       "    .dataframe tbody tr th {\n",
       "        vertical-align: top;\n",
       "    }\n",
       "\n",
       "    .dataframe thead th {\n",
       "        text-align: right;\n",
       "    }\n",
       "</style>\n",
       "<table border=\"1\" class=\"dataframe\">\n",
       "  <thead>\n",
       "    <tr style=\"text-align: right;\">\n",
       "      <th></th>\n",
       "      <th>Unnamed: 0</th>\n",
       "      <th>City</th>\n",
       "      <th>Cloudiness</th>\n",
       "      <th>Country</th>\n",
       "      <th>Date</th>\n",
       "      <th>Humidity</th>\n",
       "      <th>Lat</th>\n",
       "      <th>Lng</th>\n",
       "      <th>Max Temp</th>\n",
       "      <th>Wind Speed</th>\n",
       "    </tr>\n",
       "  </thead>\n",
       "  <tbody>\n",
       "    <tr>\n",
       "      <th>0</th>\n",
       "      <td>0</td>\n",
       "      <td>Davila</td>\n",
       "      <td>20</td>\n",
       "      <td>PH</td>\n",
       "      <td>1586456680</td>\n",
       "      <td>74</td>\n",
       "      <td>18.47</td>\n",
       "      <td>120.58</td>\n",
       "      <td>78.8</td>\n",
       "      <td>3.36</td>\n",
       "    </tr>\n",
       "    <tr>\n",
       "      <th>1</th>\n",
       "      <td>1</td>\n",
       "      <td>Clyde River</td>\n",
       "      <td>5</td>\n",
       "      <td>CA</td>\n",
       "      <td>1586456681</td>\n",
       "      <td>84</td>\n",
       "      <td>70.47</td>\n",
       "      <td>-68.59</td>\n",
       "      <td>8.6</td>\n",
       "      <td>2.24</td>\n",
       "    </tr>\n",
       "    <tr>\n",
       "      <th>2</th>\n",
       "      <td>2</td>\n",
       "      <td>Hilo</td>\n",
       "      <td>1</td>\n",
       "      <td>US</td>\n",
       "      <td>1586456681</td>\n",
       "      <td>64</td>\n",
       "      <td>19.73</td>\n",
       "      <td>-155.09</td>\n",
       "      <td>77.0</td>\n",
       "      <td>2.73</td>\n",
       "    </tr>\n",
       "    <tr>\n",
       "      <th>3</th>\n",
       "      <td>3</td>\n",
       "      <td>Jizan</td>\n",
       "      <td>2</td>\n",
       "      <td>SA</td>\n",
       "      <td>1586456681</td>\n",
       "      <td>66</td>\n",
       "      <td>17.33</td>\n",
       "      <td>42.67</td>\n",
       "      <td>86.0</td>\n",
       "      <td>4.70</td>\n",
       "    </tr>\n",
       "    <tr>\n",
       "      <th>4</th>\n",
       "      <td>4</td>\n",
       "      <td>Barrow</td>\n",
       "      <td>1</td>\n",
       "      <td>US</td>\n",
       "      <td>1586456405</td>\n",
       "      <td>83</td>\n",
       "      <td>71.29</td>\n",
       "      <td>-156.79</td>\n",
       "      <td>-9.4</td>\n",
       "      <td>11.41</td>\n",
       "    </tr>\n",
       "  </tbody>\n",
       "</table>\n",
       "</div>"
      ],
      "text/plain": [
       "   Unnamed: 0         City  Cloudiness Country        Date  Humidity    Lat  \\\n",
       "0           0       Davila          20      PH  1586456680        74  18.47   \n",
       "1           1  Clyde River           5      CA  1586456681        84  70.47   \n",
       "2           2         Hilo           1      US  1586456681        64  19.73   \n",
       "3           3        Jizan           2      SA  1586456681        66  17.33   \n",
       "4           4       Barrow           1      US  1586456405        83  71.29   \n",
       "\n",
       "      Lng  Max Temp  Wind Speed  \n",
       "0  120.58      78.8        3.36  \n",
       "1  -68.59       8.6        2.24  \n",
       "2 -155.09      77.0        2.73  \n",
       "3   42.67      86.0        4.70  \n",
       "4 -156.79      -9.4       11.41  "
      ]
     },
     "execution_count": 4,
     "metadata": {},
     "output_type": "execute_result"
    }
   ],
   "source": [
    "# City_df=pd.read_csv(\"../output_data/city.csv\")\n",
    "# City_df.head()"
   ]
  },
  {
   "cell_type": "code",
   "execution_count": 8,
   "metadata": {},
   "outputs": [
    {
     "data": {
      "text/plain": [
       "time.struct_time(tm_year=2020, tm_mon=4, tm_mday=9, tm_hour=18, tm_min=24, tm_sec=40, tm_wday=3, tm_yday=100, tm_isdst=0)"
      ]
     },
     "execution_count": 8,
     "metadata": {},
     "output_type": "execute_result"
    }
   ],
   "source": [
    "Time1= time.gmtime(int(City_df.iloc[0,4]))\n",
    "Time1"
   ]
  },
  {
   "cell_type": "code",
   "execution_count": 12,
   "metadata": {},
   "outputs": [
    {
     "data": {
      "image/png": "[encoded data removed]",
      "text/plain": [
       "<Figure size 432x288 with 1 Axes>"
      ]
     },
     "metadata": {
      "needs_background": "light"
     },
     "output_type": "display_data"
    }
   ],
   "source": [
    "plt.scatter(City_df[\"Lat\"],City_df[\"Max Temp\"])\n",
    "plt.title(f\"City Latitude vs. Max Temperature  ({Time1[1]}/{Time1[2]}/{Time1[0]})\")\n",
    "plt.xlabel(\"Latitude\")\n",
    "plt.ylabel(\"Max Temperature (F)\")\n",
    "plt.grid(True)\n",
    "plt.savefig(\"../output_data/Lat_Temp.png\")"
   ]
  },
  {
   "cell_type": "code",
   "execution_count": null,
   "metadata": {},
   "outputs": [],
   "source": [
    "# Cities between -40 to +40 latitude have hotter temperatures than anywhere else.\n",
    "#As latitude increases temperature is colder."
   ]
  },
  {
   "cell_type": "markdown",
   "metadata": {},
   "source": [
    "#### Latitude vs. Humidity Plot"
   ]
  },
  {
   "cell_type": "code",
   "execution_count": 14,
   "metadata": {},
   "outputs": [
    {
     "data": {
      "image/png": "[encoded data removed]",
      "text/plain": [
       "<Figure size 432x288 with 1 Axes>"
      ]
     },
     "metadata": {
      "needs_background": "light"
     },
     "output_type": "display_data"
    }
   ],
   "source": [
    "plt.scatter(City_df[\"Lat\"],City_df[\"Humidity\"])\n",
    "plt.title(f\"City Latitude vs. Humidity  ({Time1[1]}/{Time1[2]}/{Time1[0]})\")\n",
    "plt.xlabel(\"Latitude\")\n",
    "plt.ylabel(\"Humidity (%)\")\n",
    "plt.grid(True)\n",
    "plt.savefig(\"../output_data/Lat_Hum.png\")"
   ]
  },
  {
   "cell_type": "code",
   "execution_count": null,
   "metadata": {},
   "outputs": [],
   "source": [
    "# I am not seeing any relationship, as cities with higher latitude and lower latitude both have high humidity and low humidity.\n"
   ]
  },
  {
   "cell_type": "markdown",
   "metadata": {},
   "source": [
    "#### Latitude vs. Cloudiness Plot"
   ]
  },
  {
   "cell_type": "code",
   "execution_count": 15,
   "metadata": {},
   "outputs": [
    {
     "data": {
      "image/png": "[encoded data removed]",
      "text/plain": [
       "<Figure size 432x288 with 1 Axes>"
      ]
     },
     "metadata": {
      "needs_background": "light"
     },
     "output_type": "display_data"
    }
   ],
   "source": [
    "plt.scatter(City_df[\"Lat\"],City_df[\"Cloudiness\"])\n",
    "plt.title(f\"City Latitude vs. Cloudiness   ({Time1[1]}/{Time1[2]}/{Time1[0]})\")\n",
    "plt.xlabel(\"Latitude\")\n",
    "plt.ylabel(\"Cloudiness (%)\")\n",
    "plt.grid(True)\n",
    "plt.savefig(\"../output_data/Lat_Cloud.png\")"
   ]
  },
  {
   "cell_type": "code",
   "execution_count": null,
   "metadata": {},
   "outputs": [],
   "source": [
    "#There is not relationship between Latitude and cloudiness"
   ]
  },
  {
   "cell_type": "markdown",
   "metadata": {},
   "source": [
    "#### Latitude vs. Wind Speed Plot"
   ]
  },
  {
   "cell_type": "code",
   "execution_count": 16,
   "metadata": {},
   "outputs": [
    {
     "data": {
      "image/png": "[encoded data removed]",
      "text/plain": [
       "<Figure size 432x288 with 1 Axes>"
      ]
     },
     "metadata": {
      "needs_background": "light"
     },
     "output_type": "display_data"
    }
   ],
   "source": [
    "plt.scatter(City_df[\"Lat\"],City_df[\"Wind Speed\"])\n",
    "plt.title(f\"City Latitude vs. Wind Speed  ({Time1[1]}/{Time1[2]}/{Time1[0]})\")\n",
    "plt.xlabel(\"Latitude\")\n",
    "plt.ylabel(\"Wind Speed (mpd)\")\n",
    "plt.grid(True)\n",
    "plt.savefig(\"../output_data/Lat_Wind.png\")"
   ]
  },
  {
   "cell_type": "code",
   "execution_count": null,
   "metadata": {},
   "outputs": [],
   "source": [
    "# Wind speed is same across the lalitude."
   ]
  },
  {
   "cell_type": "markdown",
   "metadata": {},
   "source": [
    "## Linear Regression"
   ]
  },
  {
   "cell_type": "code",
   "execution_count": 48,
   "metadata": {},
   "outputs": [],
   "source": [
    "# OPTIONAL: Create a function to create Linear Regression plots\n",
    "def regressionfunc(x_values,y_values):\n",
    "    (slope,intercept,rvalue,pvalue,stderr) = linregress(x_values,y_values)\n",
    "    regress_values = x_values * slope + intercept\n",
    "    line_eq = \"y = \" + str(round(slope,2)) + \"x + \" + str(round(intercept,2))\n",
    "    return (slope,intercept,rvalue,pvalue,stderr,regress_values,line_eq)"
   ]
  },
  {
   "cell_type": "code",
   "execution_count": 49,
   "metadata": {},
   "outputs": [
    {
     "data": {
      "text/html": [
       "<div>\n",
       "<style scoped>\n",
       "    .dataframe tbody tr th:only-of-type {\n",
       "        vertical-align: middle;\n",
       "    }\n",
       "\n",
       "    .dataframe tbody tr th {\n",
       "        vertical-align: top;\n",
       "    }\n",
       "\n",
       "    .dataframe thead th {\n",
       "        text-align: right;\n",
       "    }\n",
       "</style>\n",
       "<table border=\"1\" class=\"dataframe\">\n",
       "  <thead>\n",
       "    <tr style=\"text-align: right;\">\n",
       "      <th></th>\n",
       "      <th>City</th>\n",
       "      <th>Cloudiness</th>\n",
       "      <th>Country</th>\n",
       "      <th>Date</th>\n",
       "      <th>Humidity</th>\n",
       "      <th>Lat</th>\n",
       "      <th>Lng</th>\n",
       "      <th>Max Temp</th>\n",
       "      <th>Wind Speed</th>\n",
       "    </tr>\n",
       "  </thead>\n",
       "  <tbody>\n",
       "    <tr>\n",
       "      <th>6</th>\n",
       "      <td>Mataura</td>\n",
       "      <td>96</td>\n",
       "      <td>NZ</td>\n",
       "      <td>1586456681</td>\n",
       "      <td>86</td>\n",
       "      <td>-46.19</td>\n",
       "      <td>168.86</td>\n",
       "      <td>52.00</td>\n",
       "      <td>3.00</td>\n",
       "    </tr>\n",
       "    <tr>\n",
       "      <th>9</th>\n",
       "      <td>Farafangana</td>\n",
       "      <td>66</td>\n",
       "      <td>MG</td>\n",
       "      <td>1586456543</td>\n",
       "      <td>83</td>\n",
       "      <td>-22.82</td>\n",
       "      <td>47.83</td>\n",
       "      <td>75.56</td>\n",
       "      <td>8.70</td>\n",
       "    </tr>\n",
       "    <tr>\n",
       "      <th>11</th>\n",
       "      <td>Rikitea</td>\n",
       "      <td>100</td>\n",
       "      <td>PF</td>\n",
       "      <td>1586456681</td>\n",
       "      <td>67</td>\n",
       "      <td>-23.12</td>\n",
       "      <td>-134.97</td>\n",
       "      <td>75.88</td>\n",
       "      <td>2.89</td>\n",
       "    </tr>\n",
       "    <tr>\n",
       "      <th>12</th>\n",
       "      <td>Port Alfred</td>\n",
       "      <td>56</td>\n",
       "      <td>ZA</td>\n",
       "      <td>1586456681</td>\n",
       "      <td>75</td>\n",
       "      <td>-33.59</td>\n",
       "      <td>26.89</td>\n",
       "      <td>70.72</td>\n",
       "      <td>21.94</td>\n",
       "    </tr>\n",
       "    <tr>\n",
       "      <th>13</th>\n",
       "      <td>Lüderitz</td>\n",
       "      <td>0</td>\n",
       "      <td>NA</td>\n",
       "      <td>1586456681</td>\n",
       "      <td>77</td>\n",
       "      <td>-26.65</td>\n",
       "      <td>15.16</td>\n",
       "      <td>62.60</td>\n",
       "      <td>13.87</td>\n",
       "    </tr>\n",
       "    <tr>\n",
       "      <th>...</th>\n",
       "      <td>...</td>\n",
       "      <td>...</td>\n",
       "      <td>...</td>\n",
       "      <td>...</td>\n",
       "      <td>...</td>\n",
       "      <td>...</td>\n",
       "      <td>...</td>\n",
       "      <td>...</td>\n",
       "      <td>...</td>\n",
       "    </tr>\n",
       "    <tr>\n",
       "      <th>552</th>\n",
       "      <td>Zorritos</td>\n",
       "      <td>75</td>\n",
       "      <td>PE</td>\n",
       "      <td>1586456788</td>\n",
       "      <td>33</td>\n",
       "      <td>-3.68</td>\n",
       "      <td>-80.68</td>\n",
       "      <td>89.60</td>\n",
       "      <td>10.29</td>\n",
       "    </tr>\n",
       "    <tr>\n",
       "      <th>554</th>\n",
       "      <td>Ibirama</td>\n",
       "      <td>0</td>\n",
       "      <td>BR</td>\n",
       "      <td>1586456788</td>\n",
       "      <td>46</td>\n",
       "      <td>-27.06</td>\n",
       "      <td>-49.52</td>\n",
       "      <td>78.01</td>\n",
       "      <td>1.99</td>\n",
       "    </tr>\n",
       "    <tr>\n",
       "      <th>569</th>\n",
       "      <td>Isangel</td>\n",
       "      <td>28</td>\n",
       "      <td>VU</td>\n",
       "      <td>1586456790</td>\n",
       "      <td>71</td>\n",
       "      <td>-19.55</td>\n",
       "      <td>169.27</td>\n",
       "      <td>76.42</td>\n",
       "      <td>14.45</td>\n",
       "    </tr>\n",
       "    <tr>\n",
       "      <th>573</th>\n",
       "      <td>Nsoko</td>\n",
       "      <td>100</td>\n",
       "      <td>SZ</td>\n",
       "      <td>1586456790</td>\n",
       "      <td>83</td>\n",
       "      <td>-27.03</td>\n",
       "      <td>31.95</td>\n",
       "      <td>69.80</td>\n",
       "      <td>1.12</td>\n",
       "    </tr>\n",
       "    <tr>\n",
       "      <th>576</th>\n",
       "      <td>Curup</td>\n",
       "      <td>90</td>\n",
       "      <td>ID</td>\n",
       "      <td>1586456791</td>\n",
       "      <td>79</td>\n",
       "      <td>-3.47</td>\n",
       "      <td>102.53</td>\n",
       "      <td>68.81</td>\n",
       "      <td>3.31</td>\n",
       "    </tr>\n",
       "  </tbody>\n",
       "</table>\n",
       "<p>174 rows × 9 columns</p>\n",
       "</div>"
      ],
      "text/plain": [
       "            City  Cloudiness Country        Date  Humidity    Lat     Lng  \\\n",
       "6        Mataura          96      NZ  1586456681        86 -46.19  168.86   \n",
       "9    Farafangana          66      MG  1586456543        83 -22.82   47.83   \n",
       "11       Rikitea         100      PF  1586456681        67 -23.12 -134.97   \n",
       "12   Port Alfred          56      ZA  1586456681        75 -33.59   26.89   \n",
       "13      Lüderitz           0      NA  1586456681        77 -26.65   15.16   \n",
       "..           ...         ...     ...         ...       ...    ...     ...   \n",
       "552     Zorritos          75      PE  1586456788        33  -3.68  -80.68   \n",
       "554      Ibirama           0      BR  1586456788        46 -27.06  -49.52   \n",
       "569      Isangel          28      VU  1586456790        71 -19.55  169.27   \n",
       "573        Nsoko         100      SZ  1586456790        83 -27.03   31.95   \n",
       "576        Curup          90      ID  1586456791        79  -3.47  102.53   \n",
       "\n",
       "     Max Temp  Wind Speed  \n",
       "6       52.00        3.00  \n",
       "9       75.56        8.70  \n",
       "11      75.88        2.89  \n",
       "12      70.72       21.94  \n",
       "13      62.60       13.87  \n",
       "..        ...         ...  \n",
       "552     89.60       10.29  \n",
       "554     78.01        1.99  \n",
       "569     76.42       14.45  \n",
       "573     69.80        1.12  \n",
       "576     68.81        3.31  \n",
       "\n",
       "[174 rows x 9 columns]"
      ]
     },
     "execution_count": 49,
     "metadata": {},
     "output_type": "execute_result"
    }
   ],
   "source": [
    "# Create Northern and Southern Hemisphere DataFrames\n",
    "North_df = City_df.loc[City_df[\"Lat\"] >= 0]\n",
    "South_df = City_df.loc[City_df[\"Lat\"]<=0]\n",
    "South_df"
   ]
  },
  {
   "cell_type": "markdown",
   "metadata": {},
   "source": [
    "####  Northern Hemisphere - Max Temp vs. Latitude Linear Regression"
   ]
  },
  {
   "cell_type": "code",
   "execution_count": 68,
   "metadata": {},
   "outputs": [
    {
     "name": "stdout",
     "output_type": "stream",
     "text": [
      "The r-squared is : 0.7588272676438744\n"
     ]
    },
    {
     "data": {
      "image/png": "[encoded data removed]",
      "text/plain": [
       "<Figure size 432x288 with 1 Axes>"
      ]
     },
     "metadata": {
      "needs_background": "light"
     },
     "output_type": "display_data"
    }
   ],
   "source": [
    "plt.scatter(North_df[\"Lat\"],North_df[\"Max Temp\"])\n",
    "plt.xlabel(\"Latitude\")\n",
    "plt.ylabel(\"Max Temp\")\n",
    "re = regressionfunc(North_df[\"Lat\"],North_df[\"Max Temp\"])\n",
    "rval = re[2]\n",
    "plt.plot(North_df[\"Lat\"],re[5],\"r-\")\n",
    "plt.annotate(re[6],(0,0),fontsize=15,color=\"red\")\n",
    "print(f\"The r-squared is : {rval**2}\")\n",
    "plt.savefig(\"../output_data/NLat_Temp.png\")"
   ]
  },
  {
   "cell_type": "code",
   "execution_count": null,
   "metadata": {},
   "outputs": [],
   "source": [
    "# Negative relashionship between northern hemishphere latitude and teperature."
   ]
  },
  {
   "cell_type": "markdown",
   "metadata": {},
   "source": [
    "####  Southern Hemisphere - Max Temp vs. Latitude Linear Regression"
   ]
  },
  {
   "cell_type": "code",
   "execution_count": 69,
   "metadata": {},
   "outputs": [
    {
     "name": "stdout",
     "output_type": "stream",
     "text": [
      "The r-squared is : 0.45305520073614025\n"
     ]
    },
    {
     "data": {
      "image/png": "[encoded data removed]",
      "text/plain": [
       "<Figure size 432x288 with 1 Axes>"
      ]
     },
     "metadata": {
      "needs_background": "light"
     },
     "output_type": "display_data"
    }
   ],
   "source": [
    "plt.scatter(South_df[\"Lat\"],South_df[\"Max Temp\"])\n",
    "plt.xlabel(\"Latitude\")\n",
    "plt.ylabel(\"Max Temp\")\n",
    "re = regressionfunc(South_df[\"Lat\"],South_df[\"Max Temp\"])\n",
    "rval = re[2]\n",
    "plt.plot(South_df[\"Lat\"],re[5],\"r-\")\n",
    "plt.annotate(re[6],(-30,50),fontsize=15,color=\"red\")\n",
    "print(f\"The r-squared is : {rval**2}\")\n",
    "plt.savefig(\"../output_data/SLat_Temp.png\")"
   ]
  },
  {
   "cell_type": "code",
   "execution_count": null,
   "metadata": {},
   "outputs": [],
   "source": [
    "# Positive relationship between Souther hemishpere and temperature, as the latitude increases temperature increases.\n"
   ]
  },
  {
   "cell_type": "markdown",
   "metadata": {},
   "source": [
    "####  Northern Hemisphere - Humidity (%) vs. Latitude Linear Regression"
   ]
  },
  {
   "cell_type": "code",
   "execution_count": 70,
   "metadata": {},
   "outputs": [
    {
     "name": "stdout",
     "output_type": "stream",
     "text": [
      "The r-squared is : 0.0918381515549407\n"
     ]
    },
    {
     "data": {
      "image/png": "[encoded data removed]",
      "text/plain": [
       "<Figure size 432x288 with 1 Axes>"
      ]
     },
     "metadata": {
      "needs_background": "light"
     },
     "output_type": "display_data"
    }
   ],
   "source": [
    "plt.scatter(North_df[\"Lat\"],North_df[\"Humidity\"])\n",
    "plt.xlabel(\"Latitude\")\n",
    "plt.ylabel(\"Humidity\")\n",
    "re = regressionfunc(North_df[\"Lat\"],North_df[\"Humidity\"])\n",
    "rval = re[2]\n",
    "plt.plot(North_df[\"Lat\"],re[5],\"r-\")\n",
    "plt.annotate(re[6],(40,15),fontsize=15,color=\"red\")\n",
    "print(f\"The r-squared is : {rval**2}\")\n",
    "plt.savefig(\"../output_data/NLat_Hum.png\")"
   ]
  },
  {
   "cell_type": "code",
   "execution_count": null,
   "metadata": {},
   "outputs": [],
   "source": [
    "#No relationship between northern hemisphere latitude and humidity."
   ]
  },
  {
   "cell_type": "markdown",
   "metadata": {},
   "source": [
    "####  Southern Hemisphere - Humidity (%) vs. Latitude Linear Regression"
   ]
  },
  {
   "cell_type": "code",
   "execution_count": 71,
   "metadata": {},
   "outputs": [
    {
     "name": "stdout",
     "output_type": "stream",
     "text": [
      "The r-squared is : 0.019804102133507955\n"
     ]
    },
    {
     "data": {
      "image/png": "[encoded data removed]",
      "text/plain": [
       "<Figure size 432x288 with 1 Axes>"
      ]
     },
     "metadata": {
      "needs_background": "light"
     },
     "output_type": "display_data"
    }
   ],
   "source": [
    "plt.scatter(South_df[\"Lat\"],South_df[\"Humidity\"])\n",
    "plt.xlabel(\"Latitude\")\n",
    "plt.ylabel(\"Humidity\")\n",
    "re = regressionfunc(South_df[\"Lat\"],South_df[\"Humidity\"])\n",
    "rval = re[2]\n",
    "plt.plot(South_df[\"Lat\"],re[5],\"r-\")\n",
    "plt.annotate(re[6],(-30,10),fontsize=15,color=\"red\")\n",
    "print(f\"The r-squared is : {rval**2}\")\n",
    "plt.savefig(\"../output_data/SLat_Hum.png\")"
   ]
  },
  {
   "cell_type": "code",
   "execution_count": null,
   "metadata": {},
   "outputs": [],
   "source": [
    "# No relationsip between sourthern hemisphere and latitude."
   ]
  },
  {
   "cell_type": "markdown",
   "metadata": {},
   "source": [
    "####  Northern Hemisphere - Cloudiness (%) vs. Latitude Linear Regression"
   ]
  },
  {
   "cell_type": "code",
   "execution_count": 72,
   "metadata": {},
   "outputs": [
    {
     "name": "stdout",
     "output_type": "stream",
     "text": [
      "The r-squared is : 0.03135299015194039\n"
     ]
    },
    {
     "data": {
      "image/png": "[encoded data removed]",
      "text/plain": [
       "<Figure size 432x288 with 1 Axes>"
      ]
     },
     "metadata": {
      "needs_background": "light"
     },
     "output_type": "display_data"
    }
   ],
   "source": [
    "plt.scatter(North_df[\"Lat\"],North_df[\"Cloudiness\"])\n",
    "plt.xlabel(\"Latitude\")\n",
    "plt.ylabel(\"Cloudiness\")\n",
    "re = regressionfunc(North_df[\"Lat\"],North_df[\"Cloudiness\"])\n",
    "rval = re[2]\n",
    "plt.plot(North_df[\"Lat\"],re[5],\"r-\")\n",
    "plt.annotate(re[6],(40,15),fontsize=15,color=\"red\")\n",
    "print(f\"The r-squared is : {rval**2}\")\n",
    "plt.savefig(\"../output_data/NLat_Cloud.png\")"
   ]
  },
  {
   "cell_type": "code",
   "execution_count": null,
   "metadata": {},
   "outputs": [],
   "source": [
    "# No relationship between Nothern hemisphere and cloudiness."
   ]
  },
  {
   "cell_type": "markdown",
   "metadata": {},
   "source": [
    "####  Southern Hemisphere - Cloudiness (%) vs. Latitude Linear Regression"
   ]
  },
  {
   "cell_type": "code",
   "execution_count": 73,
   "metadata": {},
   "outputs": [
    {
     "name": "stdout",
     "output_type": "stream",
     "text": [
      "The r-squared is : 0.017455389799096513\n"
     ]
    },
    {
     "data": {
      "image/png": "[encoded data removed]",
      "text/plain": [
       "<Figure size 432x288 with 1 Axes>"
      ]
     },
     "metadata": {
      "needs_background": "light"
     },
     "output_type": "display_data"
    }
   ],
   "source": [
    "plt.scatter(South_df[\"Lat\"],South_df[\"Cloudiness\"])\n",
    "plt.xlabel(\"Latitude\")\n",
    "plt.ylabel(\"Cloudiness\")\n",
    "re = regressionfunc(South_df[\"Lat\"],South_df[\"Cloudiness\"])\n",
    "rval = re[2]\n",
    "plt.plot(South_df[\"Lat\"],re[5],\"r-\")\n",
    "plt.annotate(re[6],(-30,10),fontsize=15,color=\"red\")\n",
    "print(f\"The r-squared is : {rval**2}\")\n",
    "plt.savefig(\"../output_data/SLat_Cloud.png\")"
   ]
  },
  {
   "cell_type": "code",
   "execution_count": null,
   "metadata": {},
   "outputs": [],
   "source": [
    "#No relationship between southern hemisphere and cloudiness."
   ]
  },
  {
   "cell_type": "markdown",
   "metadata": {},
   "source": [
    "####  Northern Hemisphere - Wind Speed (mph) vs. Latitude Linear Regression"
   ]
  },
  {
   "cell_type": "code",
   "execution_count": 74,
   "metadata": {},
   "outputs": [
    {
     "name": "stdout",
     "output_type": "stream",
     "text": [
      "The r-squared is : 0.03634573399141311\n"
     ]
    },
    {
     "data": {
      "image/png": "[encoded data removed]",
      "text/plain": [
       "<Figure size 432x288 with 1 Axes>"
      ]
     },
     "metadata": {
      "needs_background": "light"
     },
     "output_type": "display_data"
    }
   ],
   "source": [
    "plt.scatter(North_df[\"Lat\"],North_df[\"Wind Speed\"])\n",
    "plt.xlabel(\"Latitude\")\n",
    "plt.ylabel(\"Wind Speed\")\n",
    "re = regressionfunc(North_df[\"Lat\"],North_df[\"Wind Speed\"])\n",
    "rval = re[2]\n",
    "plt.plot(North_df[\"Lat\"],re[5],\"r-\")\n",
    "plt.annotate(re[6],(40,30),fontsize=15,color=\"red\")\n",
    "print(f\"The r-squared is : {rval**2}\")\n",
    "plt.savefig(\"../output_data/NLat_Wind.png\")"
   ]
  },
  {
   "cell_type": "code",
   "execution_count": null,
   "metadata": {},
   "outputs": [],
   "source": [
    "#No relationship between latitude and wind speed."
   ]
  },
  {
   "cell_type": "markdown",
   "metadata": {},
   "source": [
    "####  Southern Hemisphere - Wind Speed (mph) vs. Latitude Linear Regression"
   ]
  },
  {
   "cell_type": "code",
   "execution_count": 75,
   "metadata": {},
   "outputs": [
    {
     "name": "stdout",
     "output_type": "stream",
     "text": [
      "The r-squared is : 0.02138231159854644\n"
     ]
    },
    {
     "data": {
      "image/png": "[encoded data removed]",
      "text/plain": [
       "<Figure size 432x288 with 1 Axes>"
      ]
     },
     "metadata": {
      "needs_background": "light"
     },
     "output_type": "display_data"
    }
   ],
   "source": [
    "plt.scatter(South_df[\"Lat\"],South_df[\"Wind Speed\"])\n",
    "plt.xlabel(\"Latitude\")\n",
    "plt.ylabel(\"Wind Speed\")\n",
    "re = regressionfunc(South_df[\"Lat\"],South_df[\"Wind Speed\"])\n",
    "rval = re[2]\n",
    "plt.plot(South_df[\"Lat\"],re[5],\"r-\")\n",
    "plt.annotate(re[6],(-30,20),fontsize=15,color=\"red\")\n",
    "print(f\"The r-squared is : {rval**2}\")\n",
    "plt.savefig(\"../output_data/SLat_Wind.png\")"
   ]
  },
  {
   "cell_type": "code",
   "execution_count": null,
   "metadata": {},
   "outputs": [],
   "source": [
    "#No relationship between latitude and wind speed."
   ]
  },
  {
   "cell_type": "code",
   "execution_count": 62,
   "metadata": {},
   "outputs": [],
   "source": [
    "City_df.to_csv(\"../output_data/city.csv\")"
   ]
  },
  {
   "cell_type": "code",
   "execution_count": null,
   "metadata": {},
   "outputs": [],
   "source": [
    "\n",
    "\n",
    "#1. Based on the City Latitude vs. Max Temperature chart , Cities between -40 to +40 latitude have hotter temperatures than anywhere else.\n",
    "#As latitude increases temperature is colder.\n",
    "\n",
    "# 2. Based on the Northern Hemisphere - Max Temp vs. Latitude Linear Regression chart, Negative relashionship between northern hemishphere latitude and teperature.\n",
    "\n",
    "# 3. Based on the Southern Hemisphere - Max Temp vs. Latitude Linear Regression chart, Positive relationship between Souther hemishpere and temperature. as the latitude increases temperature increases.\n",
    "\n",
    "\n",
    "\n",
    "\n"
   ]
  }
 ],
 "metadata": {
  "anaconda-cloud": {},
  "kernel_info": {
   "name": "python3"
  },
  "kernelspec": {
   "display_name": "Python 3",
   "language": "python",
   "name": "python3"
  },
  "language_info": {
   "codemirror_mode": {
    "name": "ipython",
    "version": 3
   },
   "file_extension": ".py",
   "mimetype": "text/x-python",
   "name": "python",
   "nbconvert_exporter": "python",
   "pygments_lexer": "ipython3",
   "version": "3.6.10"
  },
  "latex_envs": {
   "LaTeX_envs_menu_present": true,
   "autoclose": false,
   "autocomplete": true,
   "bibliofile": "biblio.bib",
   "cite_by": "apalike",
   "current_citInitial": 1,
   "eqLabelWithNumbers": true,
   "eqNumInitial": 1,
   "hotkeys": {
    "equation": "Ctrl-E",
    "itemize": "Ctrl-I"
   },
   "labels_anchors": false,
   "latex_user_defs": false,
   "report_style_numbering": false,
   "user_envs_cfg": false
  },
  "nteract": {
   "version": "0.12.3"
  }
 },
 "nbformat": 4,
 "nbformat_minor": 2
}
